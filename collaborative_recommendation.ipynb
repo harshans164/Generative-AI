{
  "metadata": {
    "kernelspec": {
      "language": "python",
      "display_name": "Python 3",
      "name": "python3"
    },
    "language_info": {
      "name": "python",
      "version": "3.7.12",
      "mimetype": "text/x-python",
      "codemirror_mode": {
        "name": "ipython",
        "version": 3
      },
      "pygments_lexer": "ipython3",
      "nbconvert_exporter": "python",
      "file_extension": ".py"
    },
    "kaggle": {
      "accelerator": "none",
      "dataSources": [
        {
          "sourceId": 1043453,
          "sourceType": "datasetVersion",
          "datasetId": 576343
        }
      ],
      "dockerImageVersionId": 30154,
      "isInternetEnabled": false,
      "language": "python",
      "sourceType": "notebook",
      "isGpuEnabled": false
    },
    "colab": {
      "provenance": [],
      "include_colab_link": true
    }
  },
  "nbformat_minor": 0,
  "nbformat": 4,
  "cells": [
    {
      "cell_type": "markdown",
      "metadata": {
        "id": "view-in-github",
        "colab_type": "text"
      },
      "source": [
        "<a href=\"https://colab.research.google.com/github/harshans164/Generative-AI/blob/main/collaborative_recommendation.ipynb\" target=\"_parent\"><img src=\"https://colab.research.google.com/assets/colab-badge.svg\" alt=\"Open In Colab\"/></a>"
      ]
    },
    {
      "cell_type": "markdown",
      "source": [
        "# MOVIE RECOMMENDATION SYSTEM"
      ],
      "metadata": {
        "id": "25NF0C2S5ARx"
      }
    },
    {
      "cell_type": "markdown",
      "source": [
        "Dataset link: https://www.kaggle.com/datasets/ayushimishra2809/movielens-dataset"
      ],
      "metadata": {
        "id": "FGO7IiSV5XCt"
      }
    },
    {
      "cell_type": "markdown",
      "source": [
        "# Importing Libraries"
      ],
      "metadata": {
        "id": "Bb67zhoC5ARz"
      }
    },
    {
      "cell_type": "code",
      "source": [
        "import pandas as pd\n",
        "import numpy as np\n",
        "from scipy.sparse import csr_matrix\n",
        "from sklearn.neighbors import NearestNeighbors\n",
        "import matplotlib.pyplot as plt\n",
        "import seaborn as sns"
      ],
      "metadata": {
        "execution": {
          "iopub.status.busy": "2024-05-09T14:31:37.375061Z",
          "iopub.execute_input": "2024-05-09T14:31:37.375698Z",
          "iopub.status.idle": "2024-05-09T14:31:38.666658Z",
          "shell.execute_reply.started": "2024-05-09T14:31:37.375560Z",
          "shell.execute_reply": "2024-05-09T14:31:38.665592Z"
        },
        "trusted": true,
        "id": "OwXWkRZA5ARz"
      },
      "execution_count": null,
      "outputs": []
    },
    {
      "cell_type": "code",
      "source": [
        "movies=pd.read_csv(r\"../input/movielens-dataset/movies.csv\")"
      ],
      "metadata": {
        "execution": {
          "iopub.status.busy": "2024-05-09T14:31:41.345140Z",
          "iopub.execute_input": "2024-05-09T14:31:41.345478Z",
          "iopub.status.idle": "2024-05-09T14:31:41.381502Z",
          "shell.execute_reply.started": "2024-05-09T14:31:41.345445Z",
          "shell.execute_reply": "2024-05-09T14:31:41.380490Z"
        },
        "trusted": true,
        "id": "iVOgStJj5AR0"
      },
      "execution_count": null,
      "outputs": []
    },
    {
      "cell_type": "code",
      "source": [
        "movies.head(10)"
      ],
      "metadata": {
        "execution": {
          "iopub.status.busy": "2024-05-09T14:31:51.253362Z",
          "iopub.execute_input": "2024-05-09T14:31:51.253842Z",
          "iopub.status.idle": "2024-05-09T14:31:51.264430Z",
          "shell.execute_reply.started": "2024-05-09T14:31:51.253805Z",
          "shell.execute_reply": "2024-05-09T14:31:51.263578Z"
        },
        "trusted": true,
        "id": "eaT4Zc2z5AR0",
        "outputId": "09f2100e-4d5e-4e75-f00f-7393ef3a2105"
      },
      "execution_count": null,
      "outputs": [
        {
          "execution_count": 4,
          "output_type": "execute_result",
          "data": {
            "text/plain": "   movieId                               title  \\\n0        1                    Toy Story (1995)   \n1        2                      Jumanji (1995)   \n2        3             Grumpier Old Men (1995)   \n3        4            Waiting to Exhale (1995)   \n4        5  Father of the Bride Part II (1995)   \n5        6                         Heat (1995)   \n6        7                      Sabrina (1995)   \n7        8                 Tom and Huck (1995)   \n8        9                 Sudden Death (1995)   \n9       10                    GoldenEye (1995)   \n\n                                        genres  \n0  Adventure|Animation|Children|Comedy|Fantasy  \n1                   Adventure|Children|Fantasy  \n2                               Comedy|Romance  \n3                         Comedy|Drama|Romance  \n4                                       Comedy  \n5                        Action|Crime|Thriller  \n6                               Comedy|Romance  \n7                           Adventure|Children  \n8                                       Action  \n9                    Action|Adventure|Thriller  ",
            "text/html": "<div>\n<style scoped>\n    .dataframe tbody tr th:only-of-type {\n        vertical-align: middle;\n    }\n\n    .dataframe tbody tr th {\n        vertical-align: top;\n    }\n\n    .dataframe thead th {\n        text-align: right;\n    }\n</style>\n<table border=\"1\" class=\"dataframe\">\n  <thead>\n    <tr style=\"text-align: right;\">\n      <th></th>\n      <th>movieId</th>\n      <th>title</th>\n      <th>genres</th>\n    </tr>\n  </thead>\n  <tbody>\n    <tr>\n      <th>0</th>\n      <td>1</td>\n      <td>Toy Story (1995)</td>\n      <td>Adventure|Animation|Children|Comedy|Fantasy</td>\n    </tr>\n    <tr>\n      <th>1</th>\n      <td>2</td>\n      <td>Jumanji (1995)</td>\n      <td>Adventure|Children|Fantasy</td>\n    </tr>\n    <tr>\n      <th>2</th>\n      <td>3</td>\n      <td>Grumpier Old Men (1995)</td>\n      <td>Comedy|Romance</td>\n    </tr>\n    <tr>\n      <th>3</th>\n      <td>4</td>\n      <td>Waiting to Exhale (1995)</td>\n      <td>Comedy|Drama|Romance</td>\n    </tr>\n    <tr>\n      <th>4</th>\n      <td>5</td>\n      <td>Father of the Bride Part II (1995)</td>\n      <td>Comedy</td>\n    </tr>\n    <tr>\n      <th>5</th>\n      <td>6</td>\n      <td>Heat (1995)</td>\n      <td>Action|Crime|Thriller</td>\n    </tr>\n    <tr>\n      <th>6</th>\n      <td>7</td>\n      <td>Sabrina (1995)</td>\n      <td>Comedy|Romance</td>\n    </tr>\n    <tr>\n      <th>7</th>\n      <td>8</td>\n      <td>Tom and Huck (1995)</td>\n      <td>Adventure|Children</td>\n    </tr>\n    <tr>\n      <th>8</th>\n      <td>9</td>\n      <td>Sudden Death (1995)</td>\n      <td>Action</td>\n    </tr>\n    <tr>\n      <th>9</th>\n      <td>10</td>\n      <td>GoldenEye (1995)</td>\n      <td>Action|Adventure|Thriller</td>\n    </tr>\n  </tbody>\n</table>\n</div>"
          },
          "metadata": {}
        }
      ]
    },
    {
      "cell_type": "code",
      "source": [
        "movies.size"
      ],
      "metadata": {
        "execution": {
          "iopub.status.busy": "2024-05-09T14:32:19.205398Z",
          "iopub.execute_input": "2024-05-09T14:32:19.206140Z",
          "iopub.status.idle": "2024-05-09T14:32:19.212157Z",
          "shell.execute_reply.started": "2024-05-09T14:32:19.206102Z",
          "shell.execute_reply": "2024-05-09T14:32:19.211308Z"
        },
        "trusted": true,
        "id": "gnxI_otS5AR1",
        "outputId": "f9c5064e-af6a-4e52-e2da-25b13052f608"
      },
      "execution_count": null,
      "outputs": [
        {
          "execution_count": 7,
          "output_type": "execute_result",
          "data": {
            "text/plain": "30987"
          },
          "metadata": {}
        }
      ]
    },
    {
      "cell_type": "code",
      "source": [
        "movies.tail()"
      ],
      "metadata": {
        "execution": {
          "iopub.status.busy": "2024-05-09T14:32:54.572853Z",
          "iopub.execute_input": "2024-05-09T14:32:54.573140Z",
          "iopub.status.idle": "2024-05-09T14:32:54.583950Z",
          "shell.execute_reply.started": "2024-05-09T14:32:54.573110Z",
          "shell.execute_reply": "2024-05-09T14:32:54.583042Z"
        },
        "trusted": true,
        "id": "sPE-6q-a5AR1",
        "outputId": "b7377e01-c362-4aea-ba17-79dd956ff4fa"
      },
      "execution_count": null,
      "outputs": [
        {
          "execution_count": 9,
          "output_type": "execute_result",
          "data": {
            "text/plain": "       movieId                                title                     genres\n10324   146684        Cosmic Scrat-tastrophe (2015)  Animation|Children|Comedy\n10325   146878           Le Grand Restaurant (1966)                     Comedy\n10326   148238       A Very Murray Christmas (2015)                     Comedy\n10327   148626                 The Big Short (2015)                      Drama\n10328   149532  Marco Polo: One Hundred Eyes (2015)         (no genres listed)",
            "text/html": "<div>\n<style scoped>\n    .dataframe tbody tr th:only-of-type {\n        vertical-align: middle;\n    }\n\n    .dataframe tbody tr th {\n        vertical-align: top;\n    }\n\n    .dataframe thead th {\n        text-align: right;\n    }\n</style>\n<table border=\"1\" class=\"dataframe\">\n  <thead>\n    <tr style=\"text-align: right;\">\n      <th></th>\n      <th>movieId</th>\n      <th>title</th>\n      <th>genres</th>\n    </tr>\n  </thead>\n  <tbody>\n    <tr>\n      <th>10324</th>\n      <td>146684</td>\n      <td>Cosmic Scrat-tastrophe (2015)</td>\n      <td>Animation|Children|Comedy</td>\n    </tr>\n    <tr>\n      <th>10325</th>\n      <td>146878</td>\n      <td>Le Grand Restaurant (1966)</td>\n      <td>Comedy</td>\n    </tr>\n    <tr>\n      <th>10326</th>\n      <td>148238</td>\n      <td>A Very Murray Christmas (2015)</td>\n      <td>Comedy</td>\n    </tr>\n    <tr>\n      <th>10327</th>\n      <td>148626</td>\n      <td>The Big Short (2015)</td>\n      <td>Drama</td>\n    </tr>\n    <tr>\n      <th>10328</th>\n      <td>149532</td>\n      <td>Marco Polo: One Hundred Eyes (2015)</td>\n      <td>(no genres listed)</td>\n    </tr>\n  </tbody>\n</table>\n</div>"
          },
          "metadata": {}
        }
      ]
    },
    {
      "cell_type": "code",
      "source": [
        "ratings=pd.read_csv(r\"../input/movielens-dataset/ratings.csv\")"
      ],
      "metadata": {
        "execution": {
          "iopub.status.busy": "2024-05-09T14:31:55.573364Z",
          "iopub.execute_input": "2024-05-09T14:31:55.573871Z",
          "iopub.status.idle": "2024-05-09T14:31:55.649344Z",
          "shell.execute_reply.started": "2024-05-09T14:31:55.573836Z",
          "shell.execute_reply": "2024-05-09T14:31:55.648553Z"
        },
        "trusted": true,
        "id": "7UiPatBk5AR1"
      },
      "execution_count": null,
      "outputs": []
    },
    {
      "cell_type": "code",
      "source": [
        "ratings.head(10)"
      ],
      "metadata": {
        "execution": {
          "iopub.status.busy": "2024-05-09T14:31:59.805447Z",
          "iopub.execute_input": "2024-05-09T14:31:59.805790Z",
          "iopub.status.idle": "2024-05-09T14:31:59.819379Z",
          "shell.execute_reply.started": "2024-05-09T14:31:59.805752Z",
          "shell.execute_reply": "2024-05-09T14:31:59.818681Z"
        },
        "trusted": true,
        "id": "KA7rnSGQ5AR1",
        "outputId": "873d3302-64df-42d1-9990-6d01a7266e85"
      },
      "execution_count": null,
      "outputs": [
        {
          "execution_count": 6,
          "output_type": "execute_result",
          "data": {
            "text/plain": "   userId  movieId  rating   timestamp\n0       1       16     4.0  1217897793\n1       1       24     1.5  1217895807\n2       1       32     4.0  1217896246\n3       1       47     4.0  1217896556\n4       1       50     4.0  1217896523\n5       1      110     4.0  1217896150\n6       1      150     3.0  1217895940\n7       1      161     4.0  1217897864\n8       1      165     3.0  1217897135\n9       1      204     0.5  1217895786",
            "text/html": "<div>\n<style scoped>\n    .dataframe tbody tr th:only-of-type {\n        vertical-align: middle;\n    }\n\n    .dataframe tbody tr th {\n        vertical-align: top;\n    }\n\n    .dataframe thead th {\n        text-align: right;\n    }\n</style>\n<table border=\"1\" class=\"dataframe\">\n  <thead>\n    <tr style=\"text-align: right;\">\n      <th></th>\n      <th>userId</th>\n      <th>movieId</th>\n      <th>rating</th>\n      <th>timestamp</th>\n    </tr>\n  </thead>\n  <tbody>\n    <tr>\n      <th>0</th>\n      <td>1</td>\n      <td>16</td>\n      <td>4.0</td>\n      <td>1217897793</td>\n    </tr>\n    <tr>\n      <th>1</th>\n      <td>1</td>\n      <td>24</td>\n      <td>1.5</td>\n      <td>1217895807</td>\n    </tr>\n    <tr>\n      <th>2</th>\n      <td>1</td>\n      <td>32</td>\n      <td>4.0</td>\n      <td>1217896246</td>\n    </tr>\n    <tr>\n      <th>3</th>\n      <td>1</td>\n      <td>47</td>\n      <td>4.0</td>\n      <td>1217896556</td>\n    </tr>\n    <tr>\n      <th>4</th>\n      <td>1</td>\n      <td>50</td>\n      <td>4.0</td>\n      <td>1217896523</td>\n    </tr>\n    <tr>\n      <th>5</th>\n      <td>1</td>\n      <td>110</td>\n      <td>4.0</td>\n      <td>1217896150</td>\n    </tr>\n    <tr>\n      <th>6</th>\n      <td>1</td>\n      <td>150</td>\n      <td>3.0</td>\n      <td>1217895940</td>\n    </tr>\n    <tr>\n      <th>7</th>\n      <td>1</td>\n      <td>161</td>\n      <td>4.0</td>\n      <td>1217897864</td>\n    </tr>\n    <tr>\n      <th>8</th>\n      <td>1</td>\n      <td>165</td>\n      <td>3.0</td>\n      <td>1217897135</td>\n    </tr>\n    <tr>\n      <th>9</th>\n      <td>1</td>\n      <td>204</td>\n      <td>0.5</td>\n      <td>1217895786</td>\n    </tr>\n  </tbody>\n</table>\n</div>"
          },
          "metadata": {}
        }
      ]
    },
    {
      "cell_type": "code",
      "source": [
        "ratings.size"
      ],
      "metadata": {
        "execution": {
          "iopub.status.busy": "2024-05-09T14:32:33.524980Z",
          "iopub.execute_input": "2024-05-09T14:32:33.525603Z",
          "iopub.status.idle": "2024-05-09T14:32:33.532134Z",
          "shell.execute_reply.started": "2024-05-09T14:32:33.525564Z",
          "shell.execute_reply": "2024-05-09T14:32:33.531008Z"
        },
        "trusted": true,
        "id": "-sH6a8Yk5AR2",
        "outputId": "129820f5-432e-4e5e-bfcc-dca27b15a496"
      },
      "execution_count": null,
      "outputs": [
        {
          "execution_count": 8,
          "output_type": "execute_result",
          "data": {
            "text/plain": "421356"
          },
          "metadata": {}
        }
      ]
    },
    {
      "cell_type": "code",
      "source": [
        "ratings.tail()"
      ],
      "metadata": {
        "execution": {
          "iopub.status.busy": "2024-05-09T14:33:24.575482Z",
          "iopub.execute_input": "2024-05-09T14:33:24.575819Z",
          "iopub.status.idle": "2024-05-09T14:33:24.588129Z",
          "shell.execute_reply.started": "2024-05-09T14:33:24.575788Z",
          "shell.execute_reply": "2024-05-09T14:33:24.587111Z"
        },
        "trusted": true,
        "id": "Rl8Y4MAt5AR2",
        "outputId": "cad942bb-6bfe-4c77-a9f6-268e06b57f13"
      },
      "execution_count": null,
      "outputs": [
        {
          "execution_count": 10,
          "output_type": "execute_result",
          "data": {
            "text/plain": "        userId  movieId  rating   timestamp\n105334     668   142488     4.0  1451535844\n105335     668   142507     3.5  1451535889\n105336     668   143385     4.0  1446388585\n105337     668   144976     2.5  1448656898\n105338     668   148626     4.5  1451148148",
            "text/html": "<div>\n<style scoped>\n    .dataframe tbody tr th:only-of-type {\n        vertical-align: middle;\n    }\n\n    .dataframe tbody tr th {\n        vertical-align: top;\n    }\n\n    .dataframe thead th {\n        text-align: right;\n    }\n</style>\n<table border=\"1\" class=\"dataframe\">\n  <thead>\n    <tr style=\"text-align: right;\">\n      <th></th>\n      <th>userId</th>\n      <th>movieId</th>\n      <th>rating</th>\n      <th>timestamp</th>\n    </tr>\n  </thead>\n  <tbody>\n    <tr>\n      <th>105334</th>\n      <td>668</td>\n      <td>142488</td>\n      <td>4.0</td>\n      <td>1451535844</td>\n    </tr>\n    <tr>\n      <th>105335</th>\n      <td>668</td>\n      <td>142507</td>\n      <td>3.5</td>\n      <td>1451535889</td>\n    </tr>\n    <tr>\n      <th>105336</th>\n      <td>668</td>\n      <td>143385</td>\n      <td>4.0</td>\n      <td>1446388585</td>\n    </tr>\n    <tr>\n      <th>105337</th>\n      <td>668</td>\n      <td>144976</td>\n      <td>2.5</td>\n      <td>1448656898</td>\n    </tr>\n    <tr>\n      <th>105338</th>\n      <td>668</td>\n      <td>148626</td>\n      <td>4.5</td>\n      <td>1451148148</td>\n    </tr>\n  </tbody>\n</table>\n</div>"
          },
          "metadata": {}
        }
      ]
    },
    {
      "cell_type": "code",
      "source": [
        "ratings.columns"
      ],
      "metadata": {
        "execution": {
          "iopub.status.busy": "2024-05-09T14:34:10.455181Z",
          "iopub.execute_input": "2024-05-09T14:34:10.455508Z",
          "iopub.status.idle": "2024-05-09T14:34:10.462158Z",
          "shell.execute_reply.started": "2024-05-09T14:34:10.455475Z",
          "shell.execute_reply": "2024-05-09T14:34:10.461421Z"
        },
        "trusted": true,
        "id": "DH6dkKnT5AR2",
        "outputId": "c3c4f04c-d440-4eb2-93dd-9f6f8db268ba"
      },
      "execution_count": null,
      "outputs": [
        {
          "execution_count": 13,
          "output_type": "execute_result",
          "data": {
            "text/plain": "Index(['userId', 'movieId', 'rating', 'timestamp'], dtype='object')"
          },
          "metadata": {}
        }
      ]
    },
    {
      "cell_type": "code",
      "source": [
        "final_dataset=ratings.pivot(index=\"movieId\",columns=\"userId\",values=\"rating\")\n",
        "final_dataset.head()"
      ],
      "metadata": {
        "execution": {
          "iopub.status.busy": "2024-05-09T14:33:47.505055Z",
          "iopub.execute_input": "2024-05-09T14:33:47.505883Z",
          "iopub.status.idle": "2024-05-09T14:33:47.626958Z",
          "shell.execute_reply.started": "2024-05-09T14:33:47.505837Z",
          "shell.execute_reply": "2024-05-09T14:33:47.626042Z"
        },
        "trusted": true,
        "id": "WKpLTseX5AR3",
        "outputId": "f6d7c09b-a85b-4efd-99c2-bb08f9ba748b"
      },
      "execution_count": null,
      "outputs": [
        {
          "execution_count": 11,
          "output_type": "execute_result",
          "data": {
            "text/plain": "userId   1    2    3    4    5    6    7    8    9    10   ...  659  660  661  \\\nmovieId                                                    ...                  \n1        NaN  5.0  NaN  NaN  4.0  NaN  NaN  5.0  NaN  NaN  ...  NaN  NaN  4.0   \n2        NaN  NaN  NaN  NaN  NaN  NaN  NaN  NaN  NaN  NaN  ...  NaN  NaN  NaN   \n3        NaN  2.0  NaN  NaN  NaN  NaN  NaN  4.0  3.0  NaN  ...  NaN  NaN  3.0   \n4        NaN  NaN  NaN  NaN  NaN  NaN  NaN  NaN  NaN  NaN  ...  NaN  NaN  NaN   \n5        NaN  3.0  3.0  NaN  NaN  NaN  NaN  3.0  NaN  NaN  ...  NaN  NaN  3.0   \n\nuserId   662  663  664  665  666  667  668  \nmovieId                                     \n1        5.0  3.0  NaN  NaN  NaN  NaN  3.0  \n2        5.0  NaN  NaN  NaN  NaN  NaN  3.0  \n3        NaN  NaN  NaN  NaN  NaN  NaN  2.0  \n4        NaN  NaN  NaN  NaN  NaN  NaN  NaN  \n5        NaN  NaN  NaN  NaN  NaN  NaN  2.5  \n\n[5 rows x 668 columns]",
            "text/html": "<div>\n<style scoped>\n    .dataframe tbody tr th:only-of-type {\n        vertical-align: middle;\n    }\n\n    .dataframe tbody tr th {\n        vertical-align: top;\n    }\n\n    .dataframe thead th {\n        text-align: right;\n    }\n</style>\n<table border=\"1\" class=\"dataframe\">\n  <thead>\n    <tr style=\"text-align: right;\">\n      <th>userId</th>\n      <th>1</th>\n      <th>2</th>\n      <th>3</th>\n      <th>4</th>\n      <th>5</th>\n      <th>6</th>\n      <th>7</th>\n      <th>8</th>\n      <th>9</th>\n      <th>10</th>\n      <th>...</th>\n      <th>659</th>\n      <th>660</th>\n      <th>661</th>\n      <th>662</th>\n      <th>663</th>\n      <th>664</th>\n      <th>665</th>\n      <th>666</th>\n      <th>667</th>\n      <th>668</th>\n    </tr>\n    <tr>\n      <th>movieId</th>\n      <th></th>\n      <th></th>\n      <th></th>\n      <th></th>\n      <th></th>\n      <th></th>\n      <th></th>\n      <th></th>\n      <th></th>\n      <th></th>\n      <th></th>\n      <th></th>\n      <th></th>\n      <th></th>\n      <th></th>\n      <th></th>\n      <th></th>\n      <th></th>\n      <th></th>\n      <th></th>\n      <th></th>\n    </tr>\n  </thead>\n  <tbody>\n    <tr>\n      <th>1</th>\n      <td>NaN</td>\n      <td>5.0</td>\n      <td>NaN</td>\n      <td>NaN</td>\n      <td>4.0</td>\n      <td>NaN</td>\n      <td>NaN</td>\n      <td>5.0</td>\n      <td>NaN</td>\n      <td>NaN</td>\n      <td>...</td>\n      <td>NaN</td>\n      <td>NaN</td>\n      <td>4.0</td>\n      <td>5.0</td>\n      <td>3.0</td>\n      <td>NaN</td>\n      <td>NaN</td>\n      <td>NaN</td>\n      <td>NaN</td>\n      <td>3.0</td>\n    </tr>\n    <tr>\n      <th>2</th>\n      <td>NaN</td>\n      <td>NaN</td>\n      <td>NaN</td>\n      <td>NaN</td>\n      <td>NaN</td>\n      <td>NaN</td>\n      <td>NaN</td>\n      <td>NaN</td>\n      <td>NaN</td>\n      <td>NaN</td>\n      <td>...</td>\n      <td>NaN</td>\n      <td>NaN</td>\n      <td>NaN</td>\n      <td>5.0</td>\n      <td>NaN</td>\n      <td>NaN</td>\n      <td>NaN</td>\n      <td>NaN</td>\n      <td>NaN</td>\n      <td>3.0</td>\n    </tr>\n    <tr>\n      <th>3</th>\n      <td>NaN</td>\n      <td>2.0</td>\n      <td>NaN</td>\n      <td>NaN</td>\n      <td>NaN</td>\n      <td>NaN</td>\n      <td>NaN</td>\n      <td>4.0</td>\n      <td>3.0</td>\n      <td>NaN</td>\n      <td>...</td>\n      <td>NaN</td>\n      <td>NaN</td>\n      <td>3.0</td>\n      <td>NaN</td>\n      <td>NaN</td>\n      <td>NaN</td>\n      <td>NaN</td>\n      <td>NaN</td>\n      <td>NaN</td>\n      <td>2.0</td>\n    </tr>\n    <tr>\n      <th>4</th>\n      <td>NaN</td>\n      <td>NaN</td>\n      <td>NaN</td>\n      <td>NaN</td>\n      <td>NaN</td>\n      <td>NaN</td>\n      <td>NaN</td>\n      <td>NaN</td>\n      <td>NaN</td>\n      <td>NaN</td>\n      <td>...</td>\n      <td>NaN</td>\n      <td>NaN</td>\n      <td>NaN</td>\n      <td>NaN</td>\n      <td>NaN</td>\n      <td>NaN</td>\n      <td>NaN</td>\n      <td>NaN</td>\n      <td>NaN</td>\n      <td>NaN</td>\n    </tr>\n    <tr>\n      <th>5</th>\n      <td>NaN</td>\n      <td>3.0</td>\n      <td>3.0</td>\n      <td>NaN</td>\n      <td>NaN</td>\n      <td>NaN</td>\n      <td>NaN</td>\n      <td>3.0</td>\n      <td>NaN</td>\n      <td>NaN</td>\n      <td>...</td>\n      <td>NaN</td>\n      <td>NaN</td>\n      <td>3.0</td>\n      <td>NaN</td>\n      <td>NaN</td>\n      <td>NaN</td>\n      <td>NaN</td>\n      <td>NaN</td>\n      <td>NaN</td>\n      <td>2.5</td>\n    </tr>\n  </tbody>\n</table>\n<p>5 rows × 668 columns</p>\n</div>"
          },
          "metadata": {}
        }
      ]
    },
    {
      "cell_type": "code",
      "source": [
        "final_dataset.fillna(0,inplace=True)\n",
        "final_dataset.head()"
      ],
      "metadata": {
        "execution": {
          "iopub.status.busy": "2024-05-09T14:37:46.076063Z",
          "iopub.execute_input": "2024-05-09T14:37:46.076460Z",
          "iopub.status.idle": "2024-05-09T14:37:46.183265Z",
          "shell.execute_reply.started": "2024-05-09T14:37:46.076420Z",
          "shell.execute_reply": "2024-05-09T14:37:46.182406Z"
        },
        "trusted": true,
        "id": "JMu646x95AR3",
        "outputId": "48e9b924-0cfb-4e72-ad6c-8b9591088c76"
      },
      "execution_count": null,
      "outputs": [
        {
          "execution_count": 16,
          "output_type": "execute_result",
          "data": {
            "text/plain": "userId   1    2    3    4    5    6    7    8    9    10   ...  659  660  661  \\\nmovieId                                                    ...                  \n1        0.0  5.0  0.0  0.0  4.0  0.0  0.0  5.0  0.0  0.0  ...  0.0  0.0  4.0   \n2        0.0  0.0  0.0  0.0  0.0  0.0  0.0  0.0  0.0  0.0  ...  0.0  0.0  0.0   \n3        0.0  2.0  0.0  0.0  0.0  0.0  0.0  4.0  3.0  0.0  ...  0.0  0.0  3.0   \n4        0.0  0.0  0.0  0.0  0.0  0.0  0.0  0.0  0.0  0.0  ...  0.0  0.0  0.0   \n5        0.0  3.0  3.0  0.0  0.0  0.0  0.0  3.0  0.0  0.0  ...  0.0  0.0  3.0   \n\nuserId   662  663  664  665  666  667  668  \nmovieId                                     \n1        5.0  3.0  0.0  0.0  0.0  0.0  3.0  \n2        5.0  0.0  0.0  0.0  0.0  0.0  3.0  \n3        0.0  0.0  0.0  0.0  0.0  0.0  2.0  \n4        0.0  0.0  0.0  0.0  0.0  0.0  0.0  \n5        0.0  0.0  0.0  0.0  0.0  0.0  2.5  \n\n[5 rows x 668 columns]",
            "text/html": "<div>\n<style scoped>\n    .dataframe tbody tr th:only-of-type {\n        vertical-align: middle;\n    }\n\n    .dataframe tbody tr th {\n        vertical-align: top;\n    }\n\n    .dataframe thead th {\n        text-align: right;\n    }\n</style>\n<table border=\"1\" class=\"dataframe\">\n  <thead>\n    <tr style=\"text-align: right;\">\n      <th>userId</th>\n      <th>1</th>\n      <th>2</th>\n      <th>3</th>\n      <th>4</th>\n      <th>5</th>\n      <th>6</th>\n      <th>7</th>\n      <th>8</th>\n      <th>9</th>\n      <th>10</th>\n      <th>...</th>\n      <th>659</th>\n      <th>660</th>\n      <th>661</th>\n      <th>662</th>\n      <th>663</th>\n      <th>664</th>\n      <th>665</th>\n      <th>666</th>\n      <th>667</th>\n      <th>668</th>\n    </tr>\n    <tr>\n      <th>movieId</th>\n      <th></th>\n      <th></th>\n      <th></th>\n      <th></th>\n      <th></th>\n      <th></th>\n      <th></th>\n      <th></th>\n      <th></th>\n      <th></th>\n      <th></th>\n      <th></th>\n      <th></th>\n      <th></th>\n      <th></th>\n      <th></th>\n      <th></th>\n      <th></th>\n      <th></th>\n      <th></th>\n      <th></th>\n    </tr>\n  </thead>\n  <tbody>\n    <tr>\n      <th>1</th>\n      <td>0.0</td>\n      <td>5.0</td>\n      <td>0.0</td>\n      <td>0.0</td>\n      <td>4.0</td>\n      <td>0.0</td>\n      <td>0.0</td>\n      <td>5.0</td>\n      <td>0.0</td>\n      <td>0.0</td>\n      <td>...</td>\n      <td>0.0</td>\n      <td>0.0</td>\n      <td>4.0</td>\n      <td>5.0</td>\n      <td>3.0</td>\n      <td>0.0</td>\n      <td>0.0</td>\n      <td>0.0</td>\n      <td>0.0</td>\n      <td>3.0</td>\n    </tr>\n    <tr>\n      <th>2</th>\n      <td>0.0</td>\n      <td>0.0</td>\n      <td>0.0</td>\n      <td>0.0</td>\n      <td>0.0</td>\n      <td>0.0</td>\n      <td>0.0</td>\n      <td>0.0</td>\n      <td>0.0</td>\n      <td>0.0</td>\n      <td>...</td>\n      <td>0.0</td>\n      <td>0.0</td>\n      <td>0.0</td>\n      <td>5.0</td>\n      <td>0.0</td>\n      <td>0.0</td>\n      <td>0.0</td>\n      <td>0.0</td>\n      <td>0.0</td>\n      <td>3.0</td>\n    </tr>\n    <tr>\n      <th>3</th>\n      <td>0.0</td>\n      <td>2.0</td>\n      <td>0.0</td>\n      <td>0.0</td>\n      <td>0.0</td>\n      <td>0.0</td>\n      <td>0.0</td>\n      <td>4.0</td>\n      <td>3.0</td>\n      <td>0.0</td>\n      <td>...</td>\n      <td>0.0</td>\n      <td>0.0</td>\n      <td>3.0</td>\n      <td>0.0</td>\n      <td>0.0</td>\n      <td>0.0</td>\n      <td>0.0</td>\n      <td>0.0</td>\n      <td>0.0</td>\n      <td>2.0</td>\n    </tr>\n    <tr>\n      <th>4</th>\n      <td>0.0</td>\n      <td>0.0</td>\n      <td>0.0</td>\n      <td>0.0</td>\n      <td>0.0</td>\n      <td>0.0</td>\n      <td>0.0</td>\n      <td>0.0</td>\n      <td>0.0</td>\n      <td>0.0</td>\n      <td>...</td>\n      <td>0.0</td>\n      <td>0.0</td>\n      <td>0.0</td>\n      <td>0.0</td>\n      <td>0.0</td>\n      <td>0.0</td>\n      <td>0.0</td>\n      <td>0.0</td>\n      <td>0.0</td>\n      <td>0.0</td>\n    </tr>\n    <tr>\n      <th>5</th>\n      <td>0.0</td>\n      <td>3.0</td>\n      <td>3.0</td>\n      <td>0.0</td>\n      <td>0.0</td>\n      <td>0.0</td>\n      <td>0.0</td>\n      <td>3.0</td>\n      <td>0.0</td>\n      <td>0.0</td>\n      <td>...</td>\n      <td>0.0</td>\n      <td>0.0</td>\n      <td>3.0</td>\n      <td>0.0</td>\n      <td>0.0</td>\n      <td>0.0</td>\n      <td>0.0</td>\n      <td>0.0</td>\n      <td>0.0</td>\n      <td>2.5</td>\n    </tr>\n  </tbody>\n</table>\n<p>5 rows × 668 columns</p>\n</div>"
          },
          "metadata": {}
        }
      ]
    },
    {
      "cell_type": "markdown",
      "source": [
        "# Visualization"
      ],
      "metadata": {
        "id": "qbJwY4wf5AR3"
      }
    },
    {
      "cell_type": "code",
      "source": [
        "no_user_voted=ratings.groupby('movieId')['rating'].agg('count')\n",
        "no_movies_voted=ratings.groupby('userId')['rating'].agg('count')"
      ],
      "metadata": {
        "execution": {
          "iopub.status.busy": "2024-05-09T14:37:57.886004Z",
          "iopub.execute_input": "2024-05-09T14:37:57.886363Z",
          "iopub.status.idle": "2024-05-09T14:37:57.902025Z",
          "shell.execute_reply.started": "2024-05-09T14:37:57.886326Z",
          "shell.execute_reply": "2024-05-09T14:37:57.900957Z"
        },
        "trusted": true,
        "id": "eE7_870y5AR4"
      },
      "execution_count": null,
      "outputs": []
    },
    {
      "cell_type": "code",
      "source": [
        "f,ax=plt.subplots(1,1,figsize=(16,4))\n",
        "# ratings['rating'].plot(kind='hist')\n",
        "plt.scatter(no_user_voted.index,no_user_voted,color='mediumseagreen')\n",
        "plt.axhline(y=10,color='r')\n",
        "plt.xlabel('MovieId')\n",
        "plt.ylabel('No. of users voted')\n",
        "plt.show()"
      ],
      "metadata": {
        "execution": {
          "iopub.status.busy": "2024-05-09T14:38:22.336605Z",
          "iopub.execute_input": "2024-05-09T14:38:22.337388Z",
          "iopub.status.idle": "2024-05-09T14:38:22.623317Z",
          "shell.execute_reply.started": "2024-05-09T14:38:22.337339Z",
          "shell.execute_reply": "2024-05-09T14:38:22.622241Z"
        },
        "trusted": true,
        "id": "lRFQw5zu5AR4",
        "outputId": "0a5588df-b71b-4b49-938f-3b59cec9e195"
      },
      "execution_count": null,
      "outputs": [
        {
          "output_type": "display_data",
          "data": {
            "text/plain": "<Figure size 1152x288 with 1 Axes>",
            "image/png": "[encoded data removed]"
          },
          "metadata": {
            "needs_background": "light"
          }
        }
      ]
    },
    {
      "cell_type": "code",
      "source": [
        "final_dataset=final_dataset.loc[no_user_voted[no_user_voted > 10].index,:]\n"
      ],
      "metadata": {
        "execution": {
          "iopub.status.busy": "2024-05-09T14:38:39.803422Z",
          "iopub.execute_input": "2024-05-09T14:38:39.803722Z",
          "iopub.status.idle": "2024-05-09T14:38:39.815472Z",
          "shell.execute_reply.started": "2024-05-09T14:38:39.803692Z",
          "shell.execute_reply": "2024-05-09T14:38:39.814427Z"
        },
        "trusted": true,
        "id": "MZ2aFWJn5AR4"
      },
      "execution_count": null,
      "outputs": []
    },
    {
      "cell_type": "code",
      "source": [
        "f,ax = plt.subplots(1,1,figsize=(16,4))\n",
        "plt.scatter(no_movies_voted.index,no_movies_voted,color='mediumseagreen')\n",
        "plt.axhline(y=50,color='r')\n",
        "plt.xlabel('UserId')\n",
        "plt.ylabel('No. of votes by user')\n",
        "plt.show()"
      ],
      "metadata": {
        "execution": {
          "iopub.status.busy": "2024-05-09T14:38:44.606067Z",
          "iopub.execute_input": "2024-05-09T14:38:44.606418Z",
          "iopub.status.idle": "2024-05-09T14:38:44.833000Z",
          "shell.execute_reply.started": "2024-05-09T14:38:44.606380Z",
          "shell.execute_reply": "2024-05-09T14:38:44.832006Z"
        },
        "trusted": true,
        "id": "LRWkZBJc5AR4",
        "outputId": "719c1ec5-6d02-416d-b4a1-07a5b6483732"
      },
      "execution_count": null,
      "outputs": [
        {
          "output_type": "display_data",
          "data": {
            "text/plain": "<Figure size 1152x288 with 1 Axes>",
            "image/png": "[encoded data removed]"
          },
          "metadata": {
            "needs_background": "light"
          }
        }
      ]
    },
    {
      "cell_type": "code",
      "source": [
        "final_dataset=final_dataset.loc[:,no_movies_voted[no_movies_voted >50].index]\n",
        "final_dataset"
      ],
      "metadata": {
        "execution": {
          "iopub.status.busy": "2024-05-09T14:39:05.415479Z",
          "iopub.execute_input": "2024-05-09T14:39:05.415798Z",
          "iopub.status.idle": "2024-05-09T14:39:05.465567Z",
          "shell.execute_reply.started": "2024-05-09T14:39:05.415767Z",
          "shell.execute_reply": "2024-05-09T14:39:05.464681Z"
        },
        "trusted": true,
        "id": "jg5PhQRu5AR5",
        "outputId": "9a4f75f5-6958-4fb4-9816-5eb13d88cd2a"
      },
      "execution_count": null,
      "outputs": [
        {
          "execution_count": 21,
          "output_type": "execute_result",
          "data": {
            "text/plain": "userId   1    3    4    5    6    7    8    9    11   15   ...  656  657  659  \\\nmovieId                                                    ...                  \n1        0.0  0.0  0.0  4.0  0.0  0.0  5.0  0.0  4.0  0.0  ...  0.0  0.0  0.0   \n2        0.0  0.0  0.0  0.0  0.0  0.0  0.0  0.0  0.0  0.0  ...  3.0  0.0  0.0   \n3        0.0  0.0  0.0  0.0  0.0  0.0  4.0  3.0  0.0  0.0  ...  0.0  0.0  0.0   \n4        0.0  0.0  0.0  0.0  0.0  0.0  0.0  0.0  0.0  0.0  ...  0.0  0.0  0.0   \n5        0.0  3.0  0.0  0.0  0.0  0.0  3.0  0.0  0.0  0.0  ...  3.0  0.0  0.0   \n...      ...  ...  ...  ...  ...  ...  ...  ...  ...  ...  ...  ...  ...  ...   \n119145   0.0  0.0  0.0  0.0  0.0  0.0  0.0  0.0  0.0  0.0  ...  0.0  0.0  0.0   \n122882   0.0  0.0  0.0  0.0  0.0  0.0  0.0  0.0  0.0  0.0  ...  0.0  0.0  0.0   \n122892   0.0  0.0  0.0  0.0  0.0  0.0  0.0  0.0  0.0  0.0  ...  0.0  0.0  0.0   \n134130   0.0  0.0  0.0  0.0  0.0  0.0  0.0  0.0  0.0  0.0  ...  0.0  0.0  0.0   \n134853   0.0  0.0  0.0  0.0  0.0  0.0  0.0  0.0  0.0  0.0  ...  0.0  0.0  0.0   \n\nuserId   661  662  664  665  666  667  668  \nmovieId                                     \n1        4.0  5.0  0.0  0.0  0.0  0.0  3.0  \n2        0.0  5.0  0.0  0.0  0.0  0.0  3.0  \n3        3.0  0.0  0.0  0.0  0.0  0.0  2.0  \n4        0.0  0.0  0.0  0.0  0.0  0.0  0.0  \n5        3.0  0.0  0.0  0.0  0.0  0.0  2.5  \n...      ...  ...  ...  ...  ...  ...  ...  \n119145   0.0  0.0  0.0  0.0  0.0  0.0  1.5  \n122882   0.0  0.0  0.0  0.0  0.0  0.0  3.0  \n122892   0.0  0.0  0.0  0.0  0.0  0.0  3.5  \n134130   0.0  0.0  0.0  0.0  0.0  0.0  0.0  \n134853   0.0  0.0  0.0  0.0  0.0  0.0  0.0  \n\n[2160 rows x 420 columns]",
            "text/html": "<div>\n<style scoped>\n    .dataframe tbody tr th:only-of-type {\n        vertical-align: middle;\n    }\n\n    .dataframe tbody tr th {\n        vertical-align: top;\n    }\n\n    .dataframe thead th {\n        text-align: right;\n    }\n</style>\n<table border=\"1\" class=\"dataframe\">\n  <thead>\n    <tr style=\"text-align: right;\">\n      <th>userId</th>\n      <th>1</th>\n      <th>3</th>\n      <th>4</th>\n      <th>5</th>\n      <th>6</th>\n      <th>7</th>\n      <th>8</th>\n      <th>9</th>\n      <th>11</th>\n      <th>15</th>\n      <th>...</th>\n      <th>656</th>\n      <th>657</th>\n      <th>659</th>\n      <th>661</th>\n      <th>662</th>\n      <th>664</th>\n      <th>665</th>\n      <th>666</th>\n      <th>667</th>\n      <th>668</th>\n    </tr>\n    <tr>\n      <th>movieId</th>\n      <th></th>\n      <th></th>\n      <th></th>\n      <th></th>\n      <th></th>\n      <th></th>\n      <th></th>\n      <th></th>\n      <th></th>\n      <th></th>\n      <th></th>\n      <th></th>\n      <th></th>\n      <th></th>\n      <th></th>\n      <th></th>\n      <th></th>\n      <th></th>\n      <th></th>\n      <th></th>\n      <th></th>\n    </tr>\n  </thead>\n  <tbody>\n    <tr>\n      <th>1</th>\n      <td>0.0</td>\n      <td>0.0</td>\n      <td>0.0</td>\n      <td>4.0</td>\n      <td>0.0</td>\n      <td>0.0</td>\n      <td>5.0</td>\n      <td>0.0</td>\n      <td>4.0</td>\n      <td>0.0</td>\n      <td>...</td>\n      <td>0.0</td>\n      <td>0.0</td>\n      <td>0.0</td>\n      <td>4.0</td>\n      <td>5.0</td>\n      <td>0.0</td>\n      <td>0.0</td>\n      <td>0.0</td>\n      <td>0.0</td>\n      <td>3.0</td>\n    </tr>\n    <tr>\n      <th>2</th>\n      <td>0.0</td>\n      <td>0.0</td>\n      <td>0.0</td>\n      <td>0.0</td>\n      <td>0.0</td>\n      <td>0.0</td>\n      <td>0.0</td>\n      <td>0.0</td>\n      <td>0.0</td>\n      <td>0.0</td>\n      <td>...</td>\n      <td>3.0</td>\n      <td>0.0</td>\n      <td>0.0</td>\n      <td>0.0</td>\n      <td>5.0</td>\n      <td>0.0</td>\n      <td>0.0</td>\n      <td>0.0</td>\n      <td>0.0</td>\n      <td>3.0</td>\n    </tr>\n    <tr>\n      <th>3</th>\n      <td>0.0</td>\n      <td>0.0</td>\n      <td>0.0</td>\n      <td>0.0</td>\n      <td>0.0</td>\n      <td>0.0</td>\n      <td>4.0</td>\n      <td>3.0</td>\n      <td>0.0</td>\n      <td>0.0</td>\n      <td>...</td>\n      <td>0.0</td>\n      <td>0.0</td>\n      <td>0.0</td>\n      <td>3.0</td>\n      <td>0.0</td>\n      <td>0.0</td>\n      <td>0.0</td>\n      <td>0.0</td>\n      <td>0.0</td>\n      <td>2.0</td>\n    </tr>\n    <tr>\n      <th>4</th>\n      <td>0.0</td>\n      <td>0.0</td>\n      <td>0.0</td>\n      <td>0.0</td>\n      <td>0.0</td>\n      <td>0.0</td>\n      <td>0.0</td>\n      <td>0.0</td>\n      <td>0.0</td>\n      <td>0.0</td>\n      <td>...</td>\n      <td>0.0</td>\n      <td>0.0</td>\n      <td>0.0</td>\n      <td>0.0</td>\n      <td>0.0</td>\n      <td>0.0</td>\n      <td>0.0</td>\n      <td>0.0</td>\n      <td>0.0</td>\n      <td>0.0</td>\n    </tr>\n    <tr>\n      <th>5</th>\n      <td>0.0</td>\n      <td>3.0</td>\n      <td>0.0</td>\n      <td>0.0</td>\n      <td>0.0</td>\n      <td>0.0</td>\n      <td>3.0</td>\n      <td>0.0</td>\n      <td>0.0</td>\n      <td>0.0</td>\n      <td>...</td>\n      <td>3.0</td>\n      <td>0.0</td>\n      <td>0.0</td>\n      <td>3.0</td>\n      <td>0.0</td>\n      <td>0.0</td>\n      <td>0.0</td>\n      <td>0.0</td>\n      <td>0.0</td>\n      <td>2.5</td>\n    </tr>\n    <tr>\n      <th>...</th>\n      <td>...</td>\n      <td>...</td>\n      <td>...</td>\n      <td>...</td>\n      <td>...</td>\n      <td>...</td>\n      <td>...</td>\n      <td>...</td>\n      <td>...</td>\n      <td>...</td>\n      <td>...</td>\n      <td>...</td>\n      <td>...</td>\n      <td>...</td>\n      <td>...</td>\n      <td>...</td>\n      <td>...</td>\n      <td>...</td>\n      <td>...</td>\n      <td>...</td>\n      <td>...</td>\n    </tr>\n    <tr>\n      <th>119145</th>\n      <td>0.0</td>\n      <td>0.0</td>\n      <td>0.0</td>\n      <td>0.0</td>\n      <td>0.0</td>\n      <td>0.0</td>\n      <td>0.0</td>\n      <td>0.0</td>\n      <td>0.0</td>\n      <td>0.0</td>\n      <td>...</td>\n      <td>0.0</td>\n      <td>0.0</td>\n      <td>0.0</td>\n      <td>0.0</td>\n      <td>0.0</td>\n      <td>0.0</td>\n      <td>0.0</td>\n      <td>0.0</td>\n      <td>0.0</td>\n      <td>1.5</td>\n    </tr>\n    <tr>\n      <th>122882</th>\n      <td>0.0</td>\n      <td>0.0</td>\n      <td>0.0</td>\n      <td>0.0</td>\n      <td>0.0</td>\n      <td>0.0</td>\n      <td>0.0</td>\n      <td>0.0</td>\n      <td>0.0</td>\n      <td>0.0</td>\n      <td>...</td>\n      <td>0.0</td>\n      <td>0.0</td>\n      <td>0.0</td>\n      <td>0.0</td>\n      <td>0.0</td>\n      <td>0.0</td>\n      <td>0.0</td>\n      <td>0.0</td>\n      <td>0.0</td>\n      <td>3.0</td>\n    </tr>\n    <tr>\n      <th>122892</th>\n      <td>0.0</td>\n      <td>0.0</td>\n      <td>0.0</td>\n      <td>0.0</td>\n      <td>0.0</td>\n      <td>0.0</td>\n      <td>0.0</td>\n      <td>0.0</td>\n      <td>0.0</td>\n      <td>0.0</td>\n      <td>...</td>\n      <td>0.0</td>\n      <td>0.0</td>\n      <td>0.0</td>\n      <td>0.0</td>\n      <td>0.0</td>\n      <td>0.0</td>\n      <td>0.0</td>\n      <td>0.0</td>\n      <td>0.0</td>\n      <td>3.5</td>\n    </tr>\n    <tr>\n      <th>134130</th>\n      <td>0.0</td>\n      <td>0.0</td>\n      <td>0.0</td>\n      <td>0.0</td>\n      <td>0.0</td>\n      <td>0.0</td>\n      <td>0.0</td>\n      <td>0.0</td>\n      <td>0.0</td>\n      <td>0.0</td>\n      <td>...</td>\n      <td>0.0</td>\n      <td>0.0</td>\n      <td>0.0</td>\n      <td>0.0</td>\n      <td>0.0</td>\n      <td>0.0</td>\n      <td>0.0</td>\n      <td>0.0</td>\n      <td>0.0</td>\n      <td>0.0</td>\n    </tr>\n    <tr>\n      <th>134853</th>\n      <td>0.0</td>\n      <td>0.0</td>\n      <td>0.0</td>\n      <td>0.0</td>\n      <td>0.0</td>\n      <td>0.0</td>\n      <td>0.0</td>\n      <td>0.0</td>\n      <td>0.0</td>\n      <td>0.0</td>\n      <td>...</td>\n      <td>0.0</td>\n      <td>0.0</td>\n      <td>0.0</td>\n      <td>0.0</td>\n      <td>0.0</td>\n      <td>0.0</td>\n      <td>0.0</td>\n      <td>0.0</td>\n      <td>0.0</td>\n      <td>0.0</td>\n    </tr>\n  </tbody>\n</table>\n<p>2160 rows × 420 columns</p>\n</div>"
          },
          "metadata": {}
        }
      ]
    },
    {
      "cell_type": "markdown",
      "source": [
        "# Removing sparsity"
      ],
      "metadata": {
        "id": "whyYnhVq5AR5"
      }
    },
    {
      "cell_type": "code",
      "source": [
        "sample = np.array([[0,0,3,0,0],[4,0,0,0,2],[0,0,0,0,1]])\n",
        "sparsity = 1.0 - ( np.count_nonzero(sample) / float(sample.size) )\n",
        "print(sparsity)"
      ],
      "metadata": {
        "execution": {
          "iopub.status.busy": "2024-05-09T14:39:19.585644Z",
          "iopub.execute_input": "2024-05-09T14:39:19.585937Z",
          "iopub.status.idle": "2024-05-09T14:39:19.591767Z",
          "shell.execute_reply.started": "2024-05-09T14:39:19.585905Z",
          "shell.execute_reply": "2024-05-09T14:39:19.590833Z"
        },
        "trusted": true,
        "id": "SuQI2-FT5AR5",
        "outputId": "4c990edd-da63-41c9-f76e-4589e2eb2cf1"
      },
      "execution_count": null,
      "outputs": [
        {
          "name": "stdout",
          "text": "0.7333333333333334\n",
          "output_type": "stream"
        }
      ]
    },
    {
      "cell_type": "code",
      "source": [
        "csr_sample=csr_matrix(sample)\n",
        "print(csr_sample)"
      ],
      "metadata": {
        "execution": {
          "iopub.status.busy": "2024-05-09T14:41:31.017484Z",
          "iopub.execute_input": "2024-05-09T14:41:31.018265Z",
          "iopub.status.idle": "2024-05-09T14:41:31.025384Z",
          "shell.execute_reply.started": "2024-05-09T14:41:31.018188Z",
          "shell.execute_reply": "2024-05-09T14:41:31.024525Z"
        },
        "trusted": true,
        "id": "BFAxMxUG5AR5",
        "outputId": "b297b4fc-1544-4257-e9f3-bd8a3556a337"
      },
      "execution_count": null,
      "outputs": [
        {
          "name": "stdout",
          "text": "  (0, 2)\t3\n  (1, 0)\t4\n  (1, 4)\t2\n  (2, 4)\t1\n",
          "output_type": "stream"
        }
      ]
    },
    {
      "cell_type": "code",
      "source": [
        "csr_data=csr_matrix(final_dataset.values)\n",
        "final_dataset.reset_index(inplace=True)"
      ],
      "metadata": {
        "execution": {
          "iopub.status.busy": "2024-05-09T14:41:36.145839Z",
          "iopub.execute_input": "2024-05-09T14:41:36.146135Z",
          "iopub.status.idle": "2024-05-09T14:41:36.165140Z",
          "shell.execute_reply.started": "2024-05-09T14:41:36.146104Z",
          "shell.execute_reply": "2024-05-09T14:41:36.164337Z"
        },
        "trusted": true,
        "id": "gVd3qE3l5AR5"
      },
      "execution_count": null,
      "outputs": []
    },
    {
      "cell_type": "code",
      "source": [
        "csr_data"
      ],
      "metadata": {
        "execution": {
          "iopub.status.busy": "2024-05-09T14:42:15.795330Z",
          "iopub.execute_input": "2024-05-09T14:42:15.795659Z",
          "iopub.status.idle": "2024-05-09T14:42:15.802375Z",
          "shell.execute_reply.started": "2024-05-09T14:42:15.795619Z",
          "shell.execute_reply": "2024-05-09T14:42:15.801362Z"
        },
        "trusted": true,
        "id": "CoPuMrdV5AR6",
        "outputId": "8d8537c1-4fde-497c-e7c7-da57a031adb1"
      },
      "execution_count": null,
      "outputs": [
        {
          "execution_count": 27,
          "output_type": "execute_result",
          "data": {
            "text/plain": "<2160x420 sparse matrix of type '<class 'numpy.float64'>'\n\twith 75297 stored elements in Compressed Sparse Row format>"
          },
          "metadata": {}
        }
      ]
    },
    {
      "cell_type": "markdown",
      "source": [
        "# Using unsupervised learning algorithm for recommendation system KNN"
      ],
      "metadata": {
        "id": "9k5m8KU95AR6"
      }
    },
    {
      "cell_type": "code",
      "source": [
        "knn=NearestNeighbors(metric='cosine',algorithm='brute',n_neighbors=40,n_jobs=-1)\n",
        "knn.fit(csr_data)"
      ],
      "metadata": {
        "execution": {
          "iopub.status.busy": "2024-05-09T14:58:06.312152Z",
          "iopub.execute_input": "2024-05-09T14:58:06.312484Z",
          "iopub.status.idle": "2024-05-09T14:58:06.321179Z",
          "shell.execute_reply.started": "2024-05-09T14:58:06.312448Z",
          "shell.execute_reply": "2024-05-09T14:58:06.320196Z"
        },
        "trusted": true,
        "id": "wlkB8F_H5AR6",
        "outputId": "61a7cf69-e19d-460c-e836-150531854254"
      },
      "execution_count": null,
      "outputs": [
        {
          "execution_count": 46,
          "output_type": "execute_result",
          "data": {
            "text/plain": "NearestNeighbors(algorithm='brute', metric='cosine', n_jobs=-1, n_neighbors=40)"
          },
          "metadata": {}
        }
      ]
    },
    {
      "cell_type": "markdown",
      "source": [
        "# Making the recommendation function"
      ],
      "metadata": {
        "id": "Np0xfUvA5AR6"
      }
    },
    {
      "cell_type": "code",
      "source": [
        "def get_movie_recommendation(movie_name):\n",
        "    n_movies_to_reccomend = 5\n",
        "\n",
        "    movie_list = movies[movies['title'].str.contains(movie_name)]\n",
        "    if len(movie_list):\n",
        "        movie_idx= movie_list.iloc[0]['movieId']\n",
        "        movie_idx = final_dataset[final_dataset['movieId'] == movie_idx].index[0]\n",
        "        distances , indices = knn.kneighbors(csr_data[movie_idx],n_neighbors=n_movies_to_reccomend+1)\n",
        "        rec_movie_indices = sorted(list(zip(indices.squeeze().tolist(),distances.squeeze().tolist())),key=lambda x: x[1])[:0:-1]\n",
        "        recommend_frame = []\n",
        "        for val in rec_movie_indices:\n",
        "            movie_idx = final_dataset.iloc[val[0]]['movieId']\n",
        "            idx = movies[movies['movieId'] == movie_idx].index\n",
        "            recommend_frame.append({'Title':movies.iloc[idx]['title'].values[0],'Distance':val[1]})\n",
        "        df = pd.DataFrame(recommend_frame,index=range(1,n_movies_to_reccomend+1))\n",
        "        return df"
      ],
      "metadata": {
        "execution": {
          "iopub.status.busy": "2024-05-09T14:58:08.681600Z",
          "iopub.execute_input": "2024-05-09T14:58:08.681886Z",
          "iopub.status.idle": "2024-05-09T14:58:08.692340Z",
          "shell.execute_reply.started": "2024-05-09T14:58:08.681856Z",
          "shell.execute_reply": "2024-05-09T14:58:08.691294Z"
        },
        "trusted": true,
        "id": "eoez0Jnd5AR6"
      },
      "execution_count": null,
      "outputs": []
    },
    {
      "cell_type": "markdown",
      "source": [
        "# Movie Recommendations"
      ],
      "metadata": {
        "id": "MHrnxfIn5AR7"
      }
    },
    {
      "cell_type": "code",
      "source": [
        "res=get_movie_recommendation('Inception')"
      ],
      "metadata": {
        "execution": {
          "iopub.status.busy": "2024-05-09T15:02:43.203052Z",
          "iopub.execute_input": "2024-05-09T15:02:43.204245Z",
          "iopub.status.idle": "2024-05-09T15:02:43.326779Z",
          "shell.execute_reply.started": "2024-05-09T15:02:43.204162Z",
          "shell.execute_reply": "2024-05-09T15:02:43.325840Z"
        },
        "trusted": true,
        "id": "4_3CHz3i5AR7"
      },
      "execution_count": null,
      "outputs": []
    },
    {
      "cell_type": "code",
      "source": [
        "r=list(res[\"Title\"])\n",
        "r"
      ],
      "metadata": {
        "id": "-M6kOEev5AR7"
      },
      "execution_count": null,
      "outputs": []
    },
    {
      "cell_type": "markdown",
      "source": [],
      "metadata": {
        "id": "pofVogMC5AR8"
      }
    }
  ]
}